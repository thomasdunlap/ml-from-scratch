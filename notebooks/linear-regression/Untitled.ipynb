{
 "cells": [
  {
   "cell_type": "code",
   "execution_count": 91,
   "metadata": {},
   "outputs": [],
   "source": [
    "import numpy as np\n",
    "from sklearn.datasets import load_boston"
   ]
  },
  {
   "cell_type": "code",
   "execution_count": 92,
   "metadata": {},
   "outputs": [
    {
     "data": {
      "text/plain": [
       "array([[6.3200e-03, 1.8000e+01, 2.3100e+00, 0.0000e+00, 5.3800e-01,\n",
       "        6.5750e+00, 6.5200e+01, 4.0900e+00, 1.0000e+00, 2.9600e+02,\n",
       "        1.5300e+01, 3.9690e+02, 4.9800e+00],\n",
       "       [2.7310e-02, 0.0000e+00, 7.0700e+00, 0.0000e+00, 4.6900e-01,\n",
       "        6.4210e+00, 7.8900e+01, 4.9671e+00, 2.0000e+00, 2.4200e+02,\n",
       "        1.7800e+01, 3.9690e+02, 9.1400e+00]])"
      ]
     },
     "execution_count": 92,
     "metadata": {},
     "output_type": "execute_result"
    }
   ],
   "source": [
    "boston = load_boston()\n",
    "X, Y = boston.data, boston.target\n",
    "X[:2]"
   ]
  },
  {
   "cell_type": "code",
   "execution_count": 93,
   "metadata": {},
   "outputs": [],
   "source": [
    "np.random.seed(0)\n",
    "shuffle = np.random.permutation(np.arange(X.shape[0]))\n",
    "X, Y = X[shuffle], Y[shuffle]"
   ]
  },
  {
   "cell_type": "code",
   "execution_count": 94,
   "metadata": {},
   "outputs": [
    {
     "data": {
      "text/plain": [
       "array([[6.7240e-02, 0.0000e+00, 3.2400e+00, ..., 1.6900e+01, 3.7521e+02,\n",
       "        7.3400e+00],\n",
       "       [9.2323e+00, 0.0000e+00, 1.8100e+01, ..., 2.0200e+01, 3.6615e+02,\n",
       "        9.5300e+00],\n",
       "       [1.1425e-01, 0.0000e+00, 1.3890e+01, ..., 1.6400e+01, 3.9374e+02,\n",
       "        1.0500e+01],\n",
       "       ...,\n",
       "       [1.5098e-01, 0.0000e+00, 1.0010e+01, ..., 1.7800e+01, 3.9451e+02,\n",
       "        1.0300e+01],\n",
       "       [2.2927e-01, 0.0000e+00, 6.9100e+00, ..., 1.7900e+01, 3.9274e+02,\n",
       "        1.8800e+01],\n",
       "       [1.3914e-01, 0.0000e+00, 4.0500e+00, ..., 1.6600e+01, 3.9690e+02,\n",
       "        1.4690e+01]])"
      ]
     },
     "execution_count": 94,
     "metadata": {},
     "output_type": "execute_result"
    }
   ],
   "source": [
    "X"
   ]
  },
  {
   "cell_type": "code",
   "execution_count": 95,
   "metadata": {},
   "outputs": [],
   "source": [
    "SPLIT = .75\n",
    "train_split = int(SPLIT * X.shape[0])\n",
    "\n",
    "x_train, y_train, x_test, y_test = X[:train_split], Y[:train_split], X[train_split:], Y[train_split:]"
   ]
  },
  {
   "cell_type": "code",
   "execution_count": 73,
   "metadata": {},
   "outputs": [
    {
     "data": {
      "text/plain": [
       "array([[1.0000e+00, 6.7240e-02, 0.0000e+00, ..., 1.6900e+01, 3.7521e+02,\n",
       "        7.3400e+00],\n",
       "       [1.0000e+00, 9.2323e+00, 0.0000e+00, ..., 2.0200e+01, 3.6615e+02,\n",
       "        9.5300e+00],\n",
       "       [1.0000e+00, 1.1425e-01, 0.0000e+00, ..., 1.6400e+01, 3.9374e+02,\n",
       "        1.0500e+01],\n",
       "       ...,\n",
       "       [1.0000e+00, 9.9248e+00, 0.0000e+00, ..., 2.0200e+01, 3.8852e+02,\n",
       "        1.6440e+01],\n",
       "       [1.0000e+00, 6.3200e-03, 1.8000e+01, ..., 1.5300e+01, 3.9690e+02,\n",
       "        4.9800e+00],\n",
       "       [1.0000e+00, 3.4450e-02, 8.2500e+01, ..., 1.4700e+01, 3.9377e+02,\n",
       "        7.4300e+00]])"
      ]
     },
     "execution_count": 73,
     "metadata": {},
     "output_type": "execute_result"
    }
   ],
   "source": [
    "np.c_[np.ones(x_train.shape[0]), x_train]"
   ]
  },
  {
   "cell_type": "code",
   "execution_count": 74,
   "metadata": {},
   "outputs": [
    {
     "data": {
      "text/plain": [
       "array([  0. ,   0. ,   0. ,   0. ,   0. ,   0. ,   0. ,   0. ,   0. ,\n",
       "         0. ,   0. ,   0. ,   0. ,   0. ,   0. ,  70. ,   0. ,  80. ,\n",
       "         0. ,   0. ,   0. ,   0. ,   0. ,  40. ,   0. ,   0. ,   0. ,\n",
       "         0. ,   0. ,   0. ,   0. ,   0. ,  22. ,  30. ,   0. ,   0. ,\n",
       "         0. ,   0. ,   0. ,   0. ,   0. ,   0. ,   0. ,   0. ,   0. ,\n",
       "         0. ,   0. ,   0. ,   0. ,   0. ,   0. ,   0. ,   0. ,  22. ,\n",
       "         0. ,  12.5,  35. ,   0. ,   0. ,   0. ,  60. ,   0. ,  34. ,\n",
       "         0. ,   0. ,  45. ,   0. ,  12.5,   0. ,   0. ,   0. ,   0. ,\n",
       "        80. ,  55. ,   0. ,   0. ,   0. ,   0. ,   0. ,   0. ,  30. ,\n",
       "         0. ,   0. ,   0. ,   0. ,   0. ,   0. ,   0. ,   0. ,   0. ,\n",
       "        75. ,   0. ,  80. ,  70. ,   0. ,  22. ,   0. ,  85. ,   0. ,\n",
       "        25. ,   0. ,   0. ,   0. ,   0. ,  30. ,  12.5,   0. ,   0. ,\n",
       "         0. ,  34. ,   0. ,   0. ,  12.5,   0. ,  12.5,   0. ,   0. ,\n",
       "         0. ,   0. ,  90. ,  45. ,   0. ,   0. ,   0. ,   0. ,   0. ,\n",
       "        33. ,  22. ,  25. ,  40. ,   0. ,   0. ,   0. ,   0. ,   0. ,\n",
       "        90. ,   0. ,   0. ,  22. ,   0. ,   0. ,   0. ,   0. ,  21. ,\n",
       "         0. ,   0. ,  95. ,   0. ,   0. ,   0. ,   0. ,   0. ,   0. ,\n",
       "        20. ,   0. ,  70. ,   0. ,   0. ,  12.5,   0. ,   0. ,   0. ,\n",
       "        20. ,   0. ,  17.5,   0. ,   0. ,  25. ,   0. ,   0. ,  60. ,\n",
       "         0. ,   0. ,   0. ,   0. ,   0. ,   0. ,   0. ,   0. ,  21. ,\n",
       "         0. ,   0. ,   0. ,   0. ,   0. ,   0. ,  25. ,  80. ,   0. ,\n",
       "         0. ,   0. ,  20. ,   0. ,   0. ,  20. ,  28. ,  34. ,   0. ,\n",
       "         0. ,  20. ,  28. ,   0. ,  20. ,  80. ,   0. ,   0. ,   0. ,\n",
       "        22. ,   0. ,   0. ,   0. ,   0. ,   0. ,  80. ,   0. ,   0. ,\n",
       "         0. ,   0. ,   0. ,   0. ,   0. ,   0. ,   0. ,   0. ,  80. ,\n",
       "         0. ,   0. ,   0. ,  30. ,   0. ,   0. ,   0. ,   0. ,  22. ,\n",
       "         0. ,   0. ,   0. ,   0. ,  20. ,   0. ,   0. ,  85. ,   0. ,\n",
       "         0. ,  45. ,  60. ,   0. ,   0. ,  90. ,   0. ,   0. ,   0. ,\n",
       "         0. ,   0. ,   0. ,   0. ,   0. ,   0. ,  25. ,  95. ,  20. ,\n",
       "        52.5,   0. ,   0. ,   0. ,   0. ,   0. ,   0. ,   0. ,   0. ,\n",
       "         0. ,   0. ,   0. ,   0. ,   0. ,   0. ,   0. ,   0. ,   0. ,\n",
       "         0. ,  80. ,  40. ,  80. ,   0. ,   0. ,  45. ,   0. ,  95. ,\n",
       "         0. ,  20. ,  12.5,   0. ,   0. ,   0. ,   0. ,   0. ,   0. ,\n",
       "         0. ,   0. ,  75. ,  40. ,   0. ,   0. ,   0. ,   0. ,   0. ,\n",
       "        52.5,   0. ,   0. ,   0. ,   0. ,  25. ,   0. ,   0. ,   0. ,\n",
       "         0. ,   0. ,   0. ,  55. ,   0. ,   0. ,   0. ,   0. ,  20. ,\n",
       "         0. ,   0. ,   0. ,   0. ,  22. ,  35. ,   0. ,   0. ,   0. ,\n",
       "         0. ,  20. ,   0. ,   0. ,   0. ,  90. ,   0. ,  20. ,  80. ,\n",
       "         0. ,   0. ,   0. ,   0. ,  40. ,   0. ,   0. ,   0. ,   0. ,\n",
       "        25. ,  33. ,  20. ,  12.5,   0. ,   0. ,  20. ,   0. ,   0. ,\n",
       "        25. ,   0. ,  20. ,  21. ,   0. ,   0. ,   0. ,   0. ,   0. ,\n",
       "         0. ,  25. ,   0. ,   0. ,  45. ,   0. ,   0. ,   0. ,  18. ,\n",
       "        82.5,   0. ,   0. ,   0. ,  40. ,  33. ,   0. ,   0. ,   0. ,\n",
       "        90. ,  28. ,   0. ,   0. ,   0. ,   0. ,  12.5,  33. ,   0. ,\n",
       "        35. ,   0. ,   0. ,   0. ,  20. ,   0. ,   0. ,   0. ,   0. ,\n",
       "         0. ,   0. ,   0. ,   0. ,   0. ,  20. ,   0. ,  95. ,   0. ,\n",
       "         0. ,   0. ,   0. ,   0. ,   0. ,   0. ,   0. ,  25. ,  20. ,\n",
       "         0. ,   0. ,  80. , 100. ,   0. ,   0. ,  20. ,   0. ,   0. ,\n",
       "         0. ,   0. ,   0. ,   0. ,  20. ,   0. ,   0. ,   0. ,  21. ,\n",
       "         0. ,   0. ,   0. ,  80. ,   0. ,   0. ,   0. ,   0. ,   0. ,\n",
       "        22. ,  82.5,   0. ,   0. ,   0. ,   0. ,   0. ,   0. ,  52.5,\n",
       "         0. ,   0. ,   0. ,   0. ,  55. ,   0. ,   0. ,   0. ,   0. ,\n",
       "         0. ,   0. ,   0. ,  80. ,  30. ,   0. ,   0. ,   0. ,  20. ,\n",
       "         0. ,   0. ,   0. ,   0. ,   0. ,   0. ,   0. ,   0. ,  75. ,\n",
       "        60. ,   0. ,   0. ,   0. ,   0. ,   0. ,   0. ,  80. ,  30. ,\n",
       "        40. ,   0. ,  12.5,   0. ,  80. ,  22. ,   0. ,  45. ,   0. ,\n",
       "         0. ,   0. ])"
      ]
     },
     "execution_count": 74,
     "metadata": {},
     "output_type": "execute_result"
    }
   ],
   "source": [
    "plus_b"
   ]
  },
  {
   "cell_type": "code",
   "execution_count": 140,
   "metadata": {},
   "outputs": [],
   "source": [
    "def gradient_descent(X_train, y_train, lr, steps):\n",
    "    # add bias column\n",
    "    X = np.c_[np.ones(X_train.shape[0]), X_train]\n",
    "    \n",
    "    # m samples and k features\n",
    "    m, k = X.shape\n",
    "    \n",
    "    # weight initiatio\n",
    "    w = np.random.randn(k)\n",
    "    \n",
    "    costs = []\n",
    "    \n",
    "    for i in range(steps):\n",
    "        #prediction\n",
    "        pred = np.dot(X, w)\n",
    "        \n",
    "        # loss\n",
    "        loss = pred - y_train\n",
    "        \n",
    "        # cost\n",
    "        cost = np.sum(loss**2) / (2 * m)\n",
    "        costs.append(cost)\n",
    "        \n",
    "        # gradient\n",
    "        gradient = np.dot(X.T, loss) / m\n",
    "        \n",
    "        # weight update\n",
    "        w = w - lr * gradient\n",
    "        \n",
    "    \n",
    "    return w, costs\n",
    "    "
   ]
  },
  {
   "cell_type": "code",
   "execution_count": 141,
   "metadata": {},
   "outputs": [
    {
     "name": "stdout",
     "output_type": "stream",
     "text": [
      "done\n"
     ]
    }
   ],
   "source": [
    "w, costs = gradient_descent(x_train[:, 0:5], y_train, .001, 100000)\n",
    "print('done')"
   ]
  },
  {
   "cell_type": "code",
   "execution_count": 142,
   "metadata": {},
   "outputs": [
    {
     "data": {
      "text/plain": [
       "array([26.298 , -0.2204,  0.035 , -0.4623,  4.6917,  2.0496])"
      ]
     },
     "execution_count": 142,
     "metadata": {},
     "output_type": "execute_result"
    }
   ],
   "source": [
    "w"
   ]
  },
  {
   "cell_type": "code",
   "execution_count": 136,
   "metadata": {},
   "outputs": [],
   "source": [
    "import matplotlib.pyplot as plt\n",
    "#import seaborn as sns\n",
    "import time\n",
    "from numpy.linalg import inv\n",
    "np.set_printoptions()"
   ]
  },
  {
   "cell_type": "code",
   "execution_count": 137,
   "metadata": {},
   "outputs": [
    {
     "data": {
      "image/png": "[encoded data removed]",
      "text/plain": [
       "<Figure size 432x288 with 1 Axes>"
      ]
     },
     "metadata": {
      "needs_background": "light"
     },
     "output_type": "display_data"
    }
   ],
   "source": [
    "plt.plot(costs)\n",
    "plt.xlabel('Iteration'), plt.ylabel('Cost')\n",
    "plt.show()"
   ]
  },
  {
   "cell_type": "code",
   "execution_count": 118,
   "metadata": {},
   "outputs": [
    {
     "data": {
      "text/plain": [
       "array([-6.1394e+07, -2.8305e+08, -6.0785e+08, -7.3389e+08, -4.1556e+06,\n",
       "       -3.4782e+07, -3.8273e+08, -4.3359e+09, -2.2420e+08, -6.6954e+08,\n",
       "       -2.6808e+10, -1.1447e+09, -2.1785e+10, -8.1433e+08])"
      ]
     },
     "execution_count": 118,
     "metadata": {},
     "output_type": "execute_result"
    }
   ],
   "source": [
    "w"
   ]
  },
  {
   "cell_type": "code",
   "execution_count": 143,
   "metadata": {},
   "outputs": [],
   "source": [
    "from sklearn.preprocessing import StandardScaler\n"
   ]
  },
  {
   "cell_type": "code",
   "execution_count": 164,
   "metadata": {},
   "outputs": [],
   "source": [
    "scaler = StandardScaler()\n",
    "scaler.fit(x_train)\n",
    "scaled_train_data = scaler.transform(x_train)\n",
    "scaled_test_data = scaler.transform(x_test)"
   ]
  },
  {
   "cell_type": "code",
   "execution_count": 165,
   "metadata": {},
   "outputs": [],
   "source": [
    "w, costs = gradient_descent(scaled_train_data[:, :13], y_train, .01, 5000)"
   ]
  },
  {
   "cell_type": "code",
   "execution_count": 166,
   "metadata": {},
   "outputs": [
    {
     "data": {
      "image/png": "[encoded data removed]",
      "text/plain": [
       "<Figure size 432x288 with 1 Axes>"
      ]
     },
     "metadata": {
      "needs_background": "light"
     },
     "output_type": "display_data"
    }
   ],
   "source": [
    "plt.plot(np.log(costs))\n",
    "plt.ylabel('Log Cost')\n",
    "plt.xlabel('Iteration')\n",
    "plt.show()"
   ]
  },
  {
   "cell_type": "code",
   "execution_count": 170,
   "metadata": {},
   "outputs": [
    {
     "data": {
      "text/plain": [
       "25.937310550571755"
      ]
     },
     "execution_count": 170,
     "metadata": {},
     "output_type": "execute_result"
    }
   ],
   "source": [
    "np.sum((np.c_[np.ones(x_test.shape[0]), scaled_test_data] @ w - y_test)**2) / y_test.shape[0]"
   ]
  },
  {
   "cell_type": "code",
   "execution_count": 171,
   "metadata": {},
   "outputs": [
    {
     "data": {
      "text/plain": [
       "array([50. , 16.1, 43.8, 26.6, 36.1, 21.8, 29.9, 50. , 44. , 20.6, 19.6,\n",
       "       28.4, 19.1, 22.3, 20.9, 28.4, 14.4, 32.7, 13.8,  8.5, 22.5, 35.1,\n",
       "       31.6, 17.8, 15.6, 20.7, 39.8, 17.8, 19.6, 14.9, 22. , 48.8, 25. ,\n",
       "       48.5, 23.9, 20.3, 15.2, 10.5, 19. , 16.4,  8.8, 22. , 24.8, 50. ,\n",
       "       19.3, 22.7, 37.3, 31.6,  8.3, 23.1, 50. , 13.9, 16.1, 25.3, 19.5,\n",
       "       10.2, 19.9, 35.2, 13.4, 24.7, 11.5, 23.4, 16.7, 15.4, 18. , 28.5,\n",
       "       18.4, 32.5, 50. , 50. , 19.6, 17.6, 42.3, 14.5, 13.2, 16.2, 29.6,\n",
       "       16.7, 13. , 22.3, 13.4,  5. , 19.5, 14.6, 22. ,  8.1, 24.6, 33.2,\n",
       "       20.6, 14.1, 14.1, 21.1, 30.3, 23.7, 21.4, 18.3,  8.5, 22.8, 22.8,\n",
       "       22.2, 13.9, 25. , 18.5,  7. , 22.6, 20.1, 30.8, 31.1, 23.8, 12.5,\n",
       "       23.6, 23.2, 24.2, 22.2, 27.9, 22.2, 33.1, 19.3, 18.9, 22.6, 50. ,\n",
       "       24.8, 18.5, 36.4, 19.2, 16.6, 23.1])"
      ]
     },
     "execution_count": 171,
     "metadata": {},
     "output_type": "execute_result"
    }
   ],
   "source": [
    "y_test"
   ]
  },
  {
   "cell_type": "code",
   "execution_count": 172,
   "metadata": {},
   "outputs": [
    {
     "data": {
      "text/plain": [
       "array([23.12  , 21.6259, 34.8548, 22.3259, 33.1269, 20.3757, 31.1352,\n",
       "       30.5515, 36.7996, 26.9059, 22.6528, 28.6068, 16.8567, 26.0897,\n",
       "       21.1292, 30.6725, 10.1337, 30.1108,  6.0103, 15.8836, 18.3279,\n",
       "       35.1624, 32.2622,  9.2979, 11.5564, 22.3586, 34.6125, 17.9135,\n",
       "       18.9877, 15.6154, 25.9333, 39.9616, 25.4067, 41.033 , 25.1451,\n",
       "       22.7845, 10.7258, 12.3552, 14.8236, 18.8404,  3.4304, 27.276 ,\n",
       "       26.1669, 39.9558, 20.4418, 20.43  , 33.8657, 32.622 , 10.4126,\n",
       "       25.1304, 42.1484, 17.3141, 18.1343, 25.7641, 18.3936,  6.3609,\n",
       "       19.8845, 34.1998, 16.8092, 23.2051, 13.8181, 24.5085, 19.1558,\n",
       "       17.5456, 18.4907, 32.9252, 19.8355, 30.9768, 32.4049, 39.5259,\n",
       "       17.5862, 17.038 , 35.9746, 18.3736,  9.7202, 14.8594, 25.0685,\n",
       "       20.1196, 16.9425, 27.2418, 13.6716,  6.4135, 19.3084,  8.064 ,\n",
       "       27.1047,  2.9564, 28.9413, 32.0491, 22.7635, 17.0644, 18.9038,\n",
       "       21.394 , 31.9214, 27.6327, 19.9486, 20.1198,  7.3524, 27.6084,\n",
       "       24.9744, 22.9221, 14.0339, 25.0096, 20.0408,  7.3029, 26.3587,\n",
       "       14.7008, 30.8765, 31.6852, 25.4091, 18.7545, 30.445 , 22.099 ,\n",
       "       25.6188, 26.0906, 31.3822, 24.4204, 33.3809, 16.316 , 19.2376,\n",
       "       18.673 , 39.9441, 25.4691, 19.8993, 32.2768, 23.2112, 18.7456,\n",
       "       22.8969])"
      ]
     },
     "execution_count": 172,
     "metadata": {},
     "output_type": "execute_result"
    }
   ],
   "source": [
    "np.c_[np.ones(x_test.shape[0]), scaled_test_data] @ w"
   ]
  },
  {
   "cell_type": "code",
   "execution_count": null,
   "metadata": {},
   "outputs": [],
   "source": []
  }
 ],
 "metadata": {
  "kernelspec": {
   "display_name": "ml-from-scratch",
   "language": "python",
   "name": "ml-from-scratch"
  },
  "language_info": {
   "codemirror_mode": {
    "name": "ipython",
    "version": 3
   },
   "file_extension": ".py",
   "mimetype": "text/x-python",
   "name": "python",
   "nbconvert_exporter": "python",
   "pygments_lexer": "ipython3",
   "version": "3.8.0"
  }
 },
 "nbformat": 4,
 "nbformat_minor": 4
}
